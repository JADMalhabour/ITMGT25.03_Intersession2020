{
 "cells": [
  {
   "cell_type": "markdown",
   "metadata": {},
   "source": [
    "## Regular Expression (Regex)"
   ]
  },
  {
   "cell_type": "markdown",
   "metadata": {},
   "source": [
    "**Source:** [RegExOne](https://regexone.com/)\n",
    "\n",
    "Regular expressions are extremely useful in extracting information from text such as code, log files, spreadsheets, or even documents. And while there is a lot of theory behind formal languages, the following lessons and examples will explore the more practical uses of regular expressions so that you can use them as quickly as possible."
   ]
  },
  {
   "cell_type": "markdown",
   "metadata": {},
   "source": [
    "Best way to dive into **regex** is to go through examples."
   ]
  },
  {
   "cell_type": "code",
   "execution_count": 2,
   "metadata": {},
   "outputs": [],
   "source": [
    "# demo: import re\n",
    "\n",
    "import re"
   ]
  },
  {
   "cell_type": "code",
   "execution_count": 3,
   "metadata": {},
   "outputs": [
    {
     "data": {
      "text/plain": [
       "['THE', 'THE']"
      ]
     },
     "execution_count": 3,
     "metadata": {},
     "output_type": "execute_result"
    }
   ],
   "source": [
    "# demo: findall\n",
    "\n",
    "some_string = \"The quick brown fox jumps over the lazy dogs.\"\n",
    "\n",
    "re.findall(\"THE\",some_string.upper())"
   ]
  },
  {
   "cell_type": "code",
   "execution_count": 4,
   "metadata": {},
   "outputs": [
    {
     "name": "stdout",
     "output_type": "stream",
     "text": [
      "Match!\n"
     ]
    }
   ],
   "source": [
    "# next few examples courtesy of DataCamp\n",
    "pattern = r\"Cookie\" # raw string literal\n",
    "sequence = \"Cookie\"\n",
    "if re.match(pattern, sequence):\n",
    "  print(\"Match!\")\n",
    "else: print(\"Not a match!\")"
   ]
  },
  {
   "cell_type": "code",
   "execution_count": 5,
   "metadata": {},
   "outputs": [
    {
     "data": {
      "text/plain": [
       "'Cookie'"
      ]
     },
     "execution_count": 5,
     "metadata": {},
     "output_type": "execute_result"
    }
   ],
   "source": [
    "# Wildcard\n",
    "# . - A period. Matches any single character except newline character.\n",
    "re.search(r'Co.k.e', 'Cookie').group()\n",
    "\n",
    "# The group() function returns the string matched by the re."
   ]
  },
  {
   "cell_type": "code",
   "execution_count": 6,
   "metadata": {},
   "outputs": [
    {
     "name": "stdout",
     "output_type": "stream",
     "text": [
      "Cookie\n",
      "Cuckoo\n",
      "Cockro\n"
     ]
    }
   ],
   "source": [
    "pattern = r'C.....'\n",
    "print(re.search(pattern,\"Cookie\").group())\n",
    "print(re.search(pattern,\"Cuckoo\").group())\n",
    "print(re.search(pattern,\"Cockroach\").group())"
   ]
  },
  {
   "cell_type": "code",
   "execution_count": 7,
   "metadata": {},
   "outputs": [
    {
     "name": "stdout",
     "output_type": "stream",
     "text": [
      "Cookie\n",
      "None\n",
      "None\n"
     ]
    }
   ],
   "source": [
    "# \\w - Lowercase w. Matches any single letter, digit or underscore.\n",
    "pattern = r'Co\\wk\\we'\n",
    "print(re.search(pattern, 'Cookie').group())\n",
    "print(re.search(pattern, 'Coffee'))\n",
    "print(re.search(pattern, 'Co!kee'))"
   ]
  },
  {
   "cell_type": "code",
   "execution_count": 8,
   "metadata": {},
   "outputs": [
    {
     "name": "stdout",
     "output_type": "stream",
     "text": [
      "C*ke\n"
     ]
    }
   ],
   "source": [
    "# \\W - Uppercase w. Matches any character not part of \\w (lowercase w).\n",
    "pattern = r'C\\Wke'\n",
    "print(re.search(pattern, 'C*ke').group())"
   ]
  },
  {
   "cell_type": "code",
   "execution_count": 9,
   "metadata": {},
   "outputs": [
    {
     "name": "stdout",
     "output_type": "stream",
     "text": [
      "Eat cake\n",
      "M E \n"
     ]
    }
   ],
   "source": [
    "# \\s - Lowercase s. Matches a single whitespace character like: space, newline, tab, return.\n",
    "print(re.search(r'Eat\\scake', 'Eat cake').group())\n",
    "print(re.search(r'M\\sE\\s', 'M E ').group())"
   ]
  },
  {
   "cell_type": "code",
   "execution_count": 10,
   "metadata": {},
   "outputs": [
    {
     "name": "stdout",
     "output_type": "stream",
     "text": [
      "Eats,shoots and leaves\n"
     ]
    }
   ],
   "source": [
    "# \\S - Uppercase s. Matches any character not part of \\s (lowercase s).\n",
    "print(re.search(r'Eats\\Sshoots\\sand\\sleaves', 'Eats,shoots and leaves').group())"
   ]
  },
  {
   "cell_type": "code",
   "execution_count": 11,
   "metadata": {},
   "outputs": [
    {
     "data": {
      "text/plain": [
       "'c00kie'"
      ]
     },
     "execution_count": 11,
     "metadata": {},
     "output_type": "execute_result"
    }
   ],
   "source": [
    "#\\n - Lowercase n. Matches newline.\n",
    "#\n",
    "#\\r - Lowercase r. Matches return.\n",
    "#\n",
    "#\\d - Lowercase d. Matches decimal digit 0-9.\n",
    "\n",
    "re.search(r'c\\d\\dkie', 'c00kie').group()"
   ]
  },
  {
   "cell_type": "code",
   "execution_count": 12,
   "metadata": {},
   "outputs": [
    {
     "data": {
      "text/plain": [
       "'Eat'"
      ]
     },
     "execution_count": 12,
     "metadata": {},
     "output_type": "execute_result"
    }
   ],
   "source": [
    "# ^ - Caret. Matches a pattern at the start of the string.\n",
    "re.search(r'^Eat', 'Eat cake').group()"
   ]
  },
  {
   "cell_type": "code",
   "execution_count": 13,
   "metadata": {},
   "outputs": [
    {
     "data": {
      "text/plain": [
       "'cake'"
      ]
     },
     "execution_count": 13,
     "metadata": {},
     "output_type": "execute_result"
    }
   ],
   "source": [
    "# $ - Matches a pattern at the end of string.\n",
    "re.search(r'cake$', 'Throw cake').group()"
   ]
  },
  {
   "cell_type": "code",
   "execution_count": 14,
   "metadata": {},
   "outputs": [
    {
     "data": {
      "text/plain": [
       "'Number: 6'"
      ]
     },
     "execution_count": 14,
     "metadata": {},
     "output_type": "execute_result"
    }
   ],
   "source": [
    "# [abc] - Matches a or b or c.\n",
    "# [12] - Matches 1 or 2\n",
    "#\n",
    "# [a-zA-Z0-9] - Matches any letter from (a to z) or (A to Z) or (0 to 9). \n",
    "# Characters that are not within a range can be matched by complementing the set. \n",
    "# If the first character of the set is ^, all the characters that are not in the set will be matched.\n",
    "re.search(r'Number: [0-6]', 'Number: 6').group()"
   ]
  },
  {
   "cell_type": "code",
   "execution_count": 15,
   "metadata": {},
   "outputs": [
    {
     "data": {
      "text/plain": [
       "'0998 9999999'"
      ]
     },
     "execution_count": 15,
     "metadata": {},
     "output_type": "execute_result"
    }
   ],
   "source": [
    "re.search(r'^09[129][78][-* ]9999999', '0998 9999999').group()"
   ]
  },
  {
   "cell_type": "code",
   "execution_count": 16,
   "metadata": {},
   "outputs": [
    {
     "name": "stdout",
     "output_type": "stream",
     "text": [
      "Cookie\n",
      "Bookie\n",
      "cookie\n",
      "Zookie\n"
     ]
    }
   ],
   "source": [
    "# \\A - Uppercase a. Matches only at the start of the string. Works across multiple lines as well.\n",
    "pattern = r'\\A[A-Za-e]ookie'\n",
    "\n",
    "print(re.search(pattern, 'Cookie').group())\n",
    "print(re.search(pattern, 'Bookie').group())\n",
    "print(re.search(pattern, 'cookie').group())\n",
    "print(re.search(pattern, 'Zookie').group())"
   ]
  },
  {
   "cell_type": "code",
   "execution_count": 17,
   "metadata": {},
   "outputs": [
    {
     "data": {
      "text/plain": [
       "'bookie'"
      ]
     },
     "execution_count": 17,
     "metadata": {},
     "output_type": "execute_result"
    }
   ],
   "source": [
    "# \\b - Lowercase b. Matches only the beginning or end of the word.\n",
    "\n",
    "re.search(r'\\b[A-Ka-c]ookie', 'bookie').group()"
   ]
  },
  {
   "cell_type": "code",
   "execution_count": 18,
   "metadata": {},
   "outputs": [
    {
     "name": "stdout",
     "output_type": "stream",
     "text": [
      "['123', '123']\n",
      "['abc']\n",
      "['abc123']\n",
      "[]\n",
      "['a', 'b', 'c', 'a', 'n', 'o', 't', 'h', 'e', 'r']\n",
      "['1', '2', '3', '1', '2', '3']\n"
     ]
    }
   ],
   "source": [
    "# Warm-up\n",
    "\n",
    "some_string_2 = \"abc123 another123\"\n",
    "\n",
    "print(re.findall(\"123\",some_string_2))\n",
    "print(re.findall(\"abc\",some_string_2))\n",
    "print(re.findall(\"abc123\",some_string_2))\n",
    "print(re.findall(\"xyz\",some_string_2))\n",
    "print(re.findall(\"[a-z]\",some_string_2)) # find all occurrences of lower case letters (a-z)\n",
    "print(re.findall(\"[0-9]\",some_string_2)) # find all occurrences of numeric digits (0-9)"
   ]
  },
  {
   "cell_type": "markdown",
   "metadata": {},
   "source": [
    "### Repetitions\n",
    "\n",
    "It becomes quite tedious if you are looking to find long patterns in a sequence. Fortunately, the re module handles repetitions using the following special characters:\n",
    "\n",
    "`+` - Checks for one or more characters to its left."
   ]
  },
  {
   "cell_type": "code",
   "execution_count": 19,
   "metadata": {},
   "outputs": [
    {
     "data": {
      "text/plain": [
       "'Bo0000okie'"
      ]
     },
     "execution_count": 19,
     "metadata": {},
     "output_type": "execute_result"
    }
   ],
   "source": [
    "re.search(r'[A-Z].+kie', 'Bo0000okie').group()"
   ]
  },
  {
   "cell_type": "markdown",
   "metadata": {},
   "source": [
    "`*` - Checks for zero or more characters to its left."
   ]
  },
  {
   "cell_type": "code",
   "execution_count": 20,
   "metadata": {},
   "outputs": [
    {
     "data": {
      "text/plain": [
       "'Caaaaokie'"
      ]
     },
     "execution_count": 20,
     "metadata": {},
     "output_type": "execute_result"
    }
   ],
   "source": [
    "# Checks for any occurrence of a or o or both in the given sequence\n",
    "re.search(r'Ca*o*kie', 'Caaaaokie').group()"
   ]
  },
  {
   "cell_type": "code",
   "execution_count": 21,
   "metadata": {},
   "outputs": [
    {
     "data": {
      "text/plain": [
       "'Caaaaookie'"
      ]
     },
     "execution_count": 21,
     "metadata": {},
     "output_type": "execute_result"
    }
   ],
   "source": [
    "re.search(r'Ca*o*kie', 'Caaaaookie').group()"
   ]
  },
  {
   "cell_type": "markdown",
   "metadata": {},
   "source": [
    "`?` - Checks for exactly zero or one character to its left."
   ]
  },
  {
   "cell_type": "code",
   "execution_count": 22,
   "metadata": {},
   "outputs": [
    {
     "data": {
      "text/plain": [
       "'Colour'"
      ]
     },
     "execution_count": 22,
     "metadata": {},
     "output_type": "execute_result"
    }
   ],
   "source": [
    "# Checks for exactly zero or one occurrence of a or o or both in the given sequence\n",
    "re.search(r'Colou?r', 'Colour').group()"
   ]
  },
  {
   "cell_type": "code",
   "execution_count": 23,
   "metadata": {},
   "outputs": [
    {
     "name": "stdout",
     "output_type": "stream",
     "text": [
      "['0917-9003000', '0917-9003001', '0917-9003002']\n",
      "['tony@example.com', 'tony@ateneo.edu']\n"
     ]
    }
   ],
   "source": [
    "contact_info = \"Tony Stark 0917-9003000, 0917-9003001, 0917-9003002 tony@example.com tony@ateneo.edu\"\n",
    "\n",
    "# Extract possible phone number(s) from text\n",
    "print(re.findall(\"[0-9]{4}-[0-9]{7}\", contact_info)) # find all possible phone numbers in the text\n",
    "print(re.findall(\"[a-zA-Z0-9]+@[a-zA-Z0-9]+.[a-z]+\", contact_info))"
   ]
  },
  {
   "cell_type": "markdown",
   "metadata": {},
   "source": [
    "But what if you want to check for exact number of sequence repetition?\n",
    "\n",
    "For example, checking the validity of a phone number in an application. re module handles this very gracefully as well using the following regular expressions:\n",
    "\n",
    "`{x}` - Repeat exactly x number of times.\n",
    "\n",
    "`{x,}` - Repeat at least x times or more.\n",
    "\n",
    "`{x, y}` - Repeat at least x times but no more than y times."
   ]
  },
  {
   "cell_type": "code",
   "execution_count": 24,
   "metadata": {},
   "outputs": [
    {
     "data": {
      "text/plain": [
       "'0987654321'"
      ]
     },
     "execution_count": 24,
     "metadata": {},
     "output_type": "execute_result"
    }
   ],
   "source": [
    "re.search(r'\\d{9,10}', '0987654321').group()"
   ]
  },
  {
   "cell_type": "code",
   "execution_count": 25,
   "metadata": {},
   "outputs": [
    {
     "data": {
      "text/plain": [
       "'0987 6543210'"
      ]
     },
     "execution_count": 25,
     "metadata": {},
     "output_type": "execute_result"
    }
   ],
   "source": [
    "re.search(r'\\d{4}[- ]\\d{7}', '0987 6543210').group()"
   ]
  },
  {
   "cell_type": "markdown",
   "metadata": {},
   "source": [
    "The `+` and `*` qualifiers are said to be greedy."
   ]
  },
  {
   "cell_type": "markdown",
   "metadata": {},
   "source": [
    "#### Groups and Groupings"
   ]
  },
  {
   "cell_type": "markdown",
   "metadata": {},
   "source": [
    "Suppose that, when you're validating email addresses and want to check the user name and host separately.\n",
    "\n",
    "This is when the group feature of regular expression comes in handy. It allows you to pick up parts of the matching text.\n",
    "\n",
    "Parts of a regular expression pattern bounded by parenthesis() are called **groups**. The parenthesis does not change what the expression matches, but rather forms groups within the matched sequence. You have been using the `group()` function all along in this tutorial's examples. The plain `match.group()` without any argument is still the whole matched text as usual."
   ]
  },
  {
   "cell_type": "code",
   "execution_count": 26,
   "metadata": {},
   "outputs": [
    {
     "name": "stdout",
     "output_type": "stream",
     "text": [
      "support.coffee@obf.ateneo.edu\n",
      "support.coffee\n",
      "obf.ateneo.edu\n"
     ]
    }
   ],
   "source": [
    "email_address = 'Please contact us at: support.coffee@obf.ateneo.edu'\n",
    "match = re.search(r'([\\w\\.-]+)@([\\w\\.-]+)', email_address)\n",
    "if match:\n",
    "  print(match.group()) # The whole matched text\n",
    "  print(match.group(1)) # The username (group 1)\n",
    "  print(match.group(2)) # The host (group 2)"
   ]
  },
  {
   "cell_type": "markdown",
   "metadata": {},
   "source": [
    "#### Greedy vs. Non-Greedy Matching\n",
    "\n",
    "When a special character matches as much of the search sequence (string) as possible, it is said to be a \"Greedy Match\". It is the normal behavior of a regular expression but sometimes this behavior is not desired:"
   ]
  },
  {
   "cell_type": "code",
   "execution_count": 27,
   "metadata": {},
   "outputs": [
    {
     "data": {
      "text/plain": [
       "'<h1>TITLE</h1>'"
      ]
     },
     "execution_count": 27,
     "metadata": {},
     "output_type": "execute_result"
    }
   ],
   "source": [
    "pattern = \"cookie\"\n",
    "sequence = \"Cake and cookie\"\n",
    "\n",
    "heading  = r'<h1>TITLE</h1>'\n",
    "re.match(r'<.*>', heading).group()"
   ]
  },
  {
   "cell_type": "markdown",
   "metadata": {},
   "source": [
    "However, if you only wanted to match the first `<h1>` tag, you could have used the greedy qualifier `*?` that matches as little text as possible.\n",
    "\n",
    "Adding `?` after the qualifier makes it perform the match in a non-greedy or minimal fashion; That is, as few characters as possible will be matched. When you run `<.*?>`, you will only get a match with `<h1>`."
   ]
  },
  {
   "cell_type": "code",
   "execution_count": 28,
   "metadata": {},
   "outputs": [
    {
     "data": {
      "text/plain": [
       "'<h1>'"
      ]
     },
     "execution_count": 28,
     "metadata": {},
     "output_type": "execute_result"
    }
   ],
   "source": [
    "heading  = r'<h1>TITLE</h1>'\n",
    "re.match(r'<.*?>', heading).group()"
   ]
  },
  {
   "cell_type": "markdown",
   "metadata": {},
   "source": [
    "#### Replace text\n"
   ]
  },
  {
   "cell_type": "code",
   "execution_count": 29,
   "metadata": {},
   "outputs": [
    {
     "data": {
      "text/plain": [
       "'Tony Stark (0917) 9003000, (0917) 9003001, (0917) 9003002 tony@example.com tony@ateneo.edu'"
      ]
     },
     "execution_count": 29,
     "metadata": {},
     "output_type": "execute_result"
    }
   ],
   "source": [
    "contact_info = \"Tony Stark 0917-9003000, 0917-9003001, 0917-9003002 tony@example.com tony@ateneo.edu\"\n",
    "\n",
    "re.sub(r\"(09[0-9][0-9])-\",r\"(\\1) \",contact_info)\n",
    "\n",
    "# (09[0-9][0-9]) refers to group 1 containing the mobile number prefix\n",
    "# \\1 refers to group 1"
   ]
  },
  {
   "cell_type": "code",
   "execution_count": 30,
   "metadata": {},
   "outputs": [],
   "source": [
    "brgy = \"Sto.                  Nino   \"\n",
    "brgy = re.sub(\"\\s+\",\" \",brgy)\n",
    "brgy = re.sub(\"Sto.\",\"Santo\",brgy)\n",
    "brgy = re.sub(\"Sto\",\"Santo\",brgy)\n",
    "brgy = re.sub(\"Nino\\s+\",\"Niño\",brgy)"
   ]
  },
  {
   "cell_type": "code",
   "execution_count": 31,
   "metadata": {},
   "outputs": [
    {
     "data": {
      "text/plain": [
       "'Santo Niño'"
      ]
     },
     "execution_count": 31,
     "metadata": {},
     "output_type": "execute_result"
    }
   ],
   "source": [
    "brgy"
   ]
  },
  {
   "cell_type": "code",
   "execution_count": 32,
   "metadata": {},
   "outputs": [],
   "source": [
    "brgy = \"Sto. Nino\"\n",
    "brgy = re.sub(\"Sto.\",\"Santo\",brgy)"
   ]
  },
  {
   "cell_type": "code",
   "execution_count": 33,
   "metadata": {},
   "outputs": [],
   "source": [
    "dirty_location_list = [\n",
    "    \"Paranaque\",\n",
    "    \"Pnque\",\n",
    "    \"Parañaque\",\n",
    "]\n",
    "\n",
    "clean_location_list = [re.sub(r'(Paranaque|Pnque|Parañaque)',r'PARAÑAQUE',loc) for loc in dirty_location_list]"
   ]
  },
  {
   "cell_type": "markdown",
   "metadata": {},
   "source": [
    "### IMPORTANT\n",
    "\n",
    "Please go through the tutorials and sample puzzles [here](https://regexcrossword.com/). We won't have time for a full-blown lecture on regex, but the topic is too important for you not to cover through self-study because future assignments and tests will depend heavily on it."
   ]
  },
  {
   "cell_type": "code",
   "execution_count": null,
   "metadata": {},
   "outputs": [],
   "source": []
  }
 ],
 "metadata": {
  "kernelspec": {
   "display_name": "Python 3",
   "language": "python",
   "name": "python3"
  },
  "language_info": {
   "codemirror_mode": {
    "name": "ipython",
    "version": 3
   },
   "file_extension": ".py",
   "mimetype": "text/x-python",
   "name": "python",
   "nbconvert_exporter": "python",
   "pygments_lexer": "ipython3",
   "version": "3.7.4"
  }
 },
 "nbformat": 4,
 "nbformat_minor": 2
}
