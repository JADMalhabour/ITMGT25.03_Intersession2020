{
 "cells": [
  {
   "cell_type": "markdown",
   "metadata": {},
   "source": [
    "## Introduction to Data Cleansing"
   ]
  },
  {
   "cell_type": "markdown",
   "metadata": {},
   "source": [
    "Source: [Techopedia](https://www.techopedia.com/definition/1174/data-cleansing)\n",
    "\n",
    "Data cleansing is the process of altering data in a given storage resource to make sure that it is accurate and correct. There are many ways to pursue data cleansing in various software and data storage architectures; most of them center on the careful review of data sets and the protocols associated with any particular data storage technology.\n",
    "\n",
    "Data cleansing is also known as data cleaning or data scrubbing."
   ]
  },
  {
   "cell_type": "markdown",
   "metadata": {},
   "source": [
    "### Data Cleaning Exercise\n",
    "\n",
    "We have remnants of a Google Forms submission where students were asked to specify their courses. Unfortunately, the form designer was not able to restrict entries to a few valid choices, so the free-form text yielded a messy collection shown below. How would you go about cleaning the data?\n",
    "\n",
    "*Feel free to copy this list from the Canvas page*"
   ]
  },
  {
   "cell_type": "code",
   "execution_count": 1,
   "metadata": {},
   "outputs": [],
   "source": [
    "# copy list from Canvas\n",
    "\n",
    "dirty_course_list = [\n",
    "    \"BS MGT HONORS\",\n",
    "    \"BS Management Honors\",\n",
    "    \"BS Management Engineering\",\n",
    "    \"BS M.E.\",\n",
    "    \"M.E.\",\n",
    "    \"BS M.E.\",\n",
    "    \"BS ME\",\n",
    "    \"BS Mgt Eng\",\n",
    "    \"BS Mgt. Eng.\"\n",
    "    \"BSME\",\n",
    "    \"BS ME\",\n",
    "    \"BS-ME\",\n",
    "    \"BMH\",\n",
    "    \"BM-H\",\n",
    "    \"MH\",\n",
    "    \"BS MH\",\n",
    "    \"MGTH\",\n",
    "    \"Mgt Honors\",\n",
    "    \"ME\"\n",
    "]"
   ]
  },
  {
   "cell_type": "markdown",
   "metadata": {},
   "source": [
    "### Candidate Solution\n",
    "\n",
    "This is by no means a recipe for general data cleansing. Rather, it is a simple approach for the given problem above. To simplify the illustration, we won't be using regex just yet (We will go through a more general data cleansing process flow in a future lecture.)\n",
    "\n",
    "#### 1) Find unique names"
   ]
  },
  {
   "cell_type": "code",
   "execution_count": 2,
   "metadata": {},
   "outputs": [],
   "source": [
    "# Find unique names\n",
    "\n",
    "unique_names = set(dirty_course_list)"
   ]
  },
  {
   "cell_type": "code",
   "execution_count": 3,
   "metadata": {},
   "outputs": [
    {
     "data": {
      "text/plain": [
       "{'BM-H',\n",
       " 'BMH',\n",
       " 'BS M.E.',\n",
       " 'BS ME',\n",
       " 'BS MGT HONORS',\n",
       " 'BS MH',\n",
       " 'BS Management Engineering',\n",
       " 'BS Management Honors',\n",
       " 'BS Mgt Eng',\n",
       " 'BS Mgt. Eng.BSME',\n",
       " 'BS-ME',\n",
       " 'M.E.',\n",
       " 'ME',\n",
       " 'MGTH',\n",
       " 'MH',\n",
       " 'Mgt Honors'}"
      ]
     },
     "execution_count": 3,
     "metadata": {},
     "output_type": "execute_result"
    }
   ],
   "source": [
    "# dump contents of unique names\n",
    "\n",
    "unique_names"
   ]
  },
  {
   "cell_type": "markdown",
   "metadata": {},
   "source": [
    "#### 2) Cluster names and converge to one name per cluster"
   ]
  },
  {
   "cell_type": "code",
   "execution_count": 4,
   "metadata": {},
   "outputs": [],
   "source": [
    "# add unique_names to dictionary\n",
    "\n",
    "unique_names_dictionary = {name:None for name in unique_names}"
   ]
  },
  {
   "cell_type": "code",
   "execution_count": 5,
   "metadata": {},
   "outputs": [
    {
     "data": {
      "text/plain": [
       "{'BS MGT HONORS': None,\n",
       " 'Mgt Honors': None,\n",
       " 'ME': None,\n",
       " 'BS Management Engineering': None,\n",
       " 'BMH': None,\n",
       " 'BS Mgt Eng': None,\n",
       " 'MH': None,\n",
       " 'BS MH': None,\n",
       " 'BS Management Honors': None,\n",
       " 'BS Mgt. Eng.BSME': None,\n",
       " 'BS ME': None,\n",
       " 'BS-ME': None,\n",
       " 'MGTH': None,\n",
       " 'BS M.E.': None,\n",
       " 'BM-H': None,\n",
       " 'M.E.': None}"
      ]
     },
     "execution_count": 5,
     "metadata": {},
     "output_type": "execute_result"
    }
   ],
   "source": [
    "# dump unique names dictionary\n",
    "\n",
    "unique_names_dictionary"
   ]
  },
  {
   "cell_type": "markdown",
   "metadata": {},
   "source": [
    "#### 3) Assign an official name per unique name\n",
    "\n",
    "Oftentimes, this is a tedious, manual process. However, the effort is mostly at the start, and succeeding efforts may be automated."
   ]
  },
  {
   "cell_type": "code",
   "execution_count": 8,
   "metadata": {},
   "outputs": [
    {
     "name": "stdout",
     "output_type": "stream",
     "text": [
      "BS MGT HONORS: Enter name: BS Management Honors\n",
      "Mgt Honors: Enter name: BS Management Honors\n",
      "ME: Enter name: BS Management Engineering\n",
      "BS Management Engineering: Enter name: BS Management Engineering\n",
      "BMH: Enter name: BS Management Honors\n",
      "BS Mgt Eng: Enter name: BS Management Engineering\n",
      "MH: Enter name: BS Management Honors\n",
      "BS MH: Enter name: BS Management Honors\n",
      "BS Management Honors: Enter name: BS Management Honors\n",
      "BS Mgt. Eng.BSME: Enter name: BS Management Engineering\n",
      "BS ME: Enter name: BS Management Engineering\n",
      "BS-ME: Enter name: BS Management Engineering\n",
      "MGTH: Enter name: BS Management Honors\n",
      "BS M.E.: Enter name: BS Management Engineering\n",
      "BM-H: Enter name: BS Management Honors\n",
      "M.E.: Enter name: BS Management Engineering\n"
     ]
    }
   ],
   "source": [
    "# Go through each unique name and assign an official name\n",
    "# We'll have to do this manually for illustration purposes\n",
    "\n",
    "for i in unique_names_dictionary:\n",
    "    final_name = input(i+\": \"+\"Enter name: \")\n",
    "    unique_names_dictionary[i]=final_name\n"
   ]
  },
  {
   "cell_type": "markdown",
   "metadata": {},
   "source": [
    "Note: another approach is to dump the unique names in a CSV, upload to Excel (where you can manually assign the official names in another column), redump back to CSV, then import back to Python for further processing."
   ]
  },
  {
   "cell_type": "code",
   "execution_count": 9,
   "metadata": {},
   "outputs": [
    {
     "data": {
      "text/plain": [
       "{'BS MGT HONORS': 'BS Management Honors',\n",
       " 'Mgt Honors': 'BS Management Honors',\n",
       " 'ME': 'BS Management Engineering',\n",
       " 'BS Management Engineering': 'BS Management Engineering',\n",
       " 'BMH': 'BS Management Honors',\n",
       " 'BS Mgt Eng': 'BS Management Engineering',\n",
       " 'MH': 'BS Management Honors',\n",
       " 'BS MH': 'BS Management Honors',\n",
       " 'BS Management Honors': 'BS Management Honors',\n",
       " 'BS Mgt. Eng.BSME': 'BS Management Engineering',\n",
       " 'BS ME': 'BS Management Engineering',\n",
       " 'BS-ME': 'BS Management Engineering',\n",
       " 'MGTH': 'BS Management Honors',\n",
       " 'BS M.E.': 'BS Management Engineering',\n",
       " 'BM-H': 'BS Management Honors',\n",
       " 'M.E.': 'BS Management Engineering'}"
      ]
     },
     "execution_count": 9,
     "metadata": {},
     "output_type": "execute_result"
    }
   ],
   "source": [
    "## Verify the new dictionary\n",
    "unique_names_dictionary\n"
   ]
  },
  {
   "cell_type": "markdown",
   "metadata": {},
   "source": [
    "#### 4) Clean up the dirty course list"
   ]
  },
  {
   "cell_type": "code",
   "execution_count": 10,
   "metadata": {},
   "outputs": [],
   "source": [
    "# Clean up the dirty course list\n",
    "# don't forget to import re\n",
    "\n",
    "import re\n",
    "clean_course_list = [re.sub(r''.join(course), r''.join(unique_names_dictionary[course]),course) for course in dirty_course_list]"
   ]
  },
  {
   "cell_type": "code",
   "execution_count": 11,
   "metadata": {},
   "outputs": [
    {
     "data": {
      "text/plain": [
       "['BS Management Honors',\n",
       " 'BS Management Honors',\n",
       " 'BS Management Engineering',\n",
       " 'BS Management Engineering',\n",
       " 'BS Management Engineering',\n",
       " 'BS Management Engineering',\n",
       " 'BS Management Engineering',\n",
       " 'BS Management Engineering',\n",
       " 'BS Management Engineering',\n",
       " 'BS Management Engineering',\n",
       " 'BS Management Engineering',\n",
       " 'BS Management Honors',\n",
       " 'BS Management Honors',\n",
       " 'BS Management Honors',\n",
       " 'BS Management Honors',\n",
       " 'BS Management Honors',\n",
       " 'BS Management Honors',\n",
       " 'BS Management Engineering']"
      ]
     },
     "execution_count": 11,
     "metadata": {},
     "output_type": "execute_result"
    }
   ],
   "source": [
    "# dump new clean course list\n",
    "\n",
    "clean_course_list"
   ]
  },
  {
   "cell_type": "markdown",
   "metadata": {},
   "source": [
    "#### End of Introduction to Data Cleansing Discussion\n",
    "\n",
    "I will be giving an exercise involving a dirty dataset in CSV and ask you to prepare a new and clean CSV using the data cleansing techniques discussed here. The dirty dataset to be provided can only easily be cleaned through your mastery of **regex**."
   ]
  },
  {
   "cell_type": "code",
   "execution_count": 12,
   "metadata": {},
   "outputs": [
    {
     "data": {
      "text/plain": [
       "['BS MGT HONORS',\n",
       " 'BS Management Honors',\n",
       " 'BS Management Engineering',\n",
       " 'BS M.E.',\n",
       " 'M.E.',\n",
       " 'BS M.E.',\n",
       " 'BS ME',\n",
       " 'BS Mgt Eng',\n",
       " 'BS Mgt. Eng.BSME',\n",
       " 'BS ME',\n",
       " 'BS-ME',\n",
       " 'BMH',\n",
       " 'BM-H',\n",
       " 'MH',\n",
       " 'BS MH',\n",
       " 'MGTH',\n",
       " 'Mgt Honors',\n",
       " 'ME']"
      ]
     },
     "execution_count": 12,
     "metadata": {},
     "output_type": "execute_result"
    }
   ],
   "source": [
    "dirty_course_list"
   ]
  },
  {
   "cell_type": "code",
   "execution_count": 13,
   "metadata": {},
   "outputs": [
    {
     "data": {
      "text/plain": [
       "18"
      ]
     },
     "execution_count": 13,
     "metadata": {},
     "output_type": "execute_result"
    }
   ],
   "source": [
    "len(dirty_course_list)"
   ]
  },
  {
   "cell_type": "code",
   "execution_count": 14,
   "metadata": {},
   "outputs": [
    {
     "data": {
      "text/plain": [
       "18"
      ]
     },
     "execution_count": 14,
     "metadata": {},
     "output_type": "execute_result"
    }
   ],
   "source": [
    "len(clean_course_list)"
   ]
  },
  {
   "cell_type": "code",
   "execution_count": null,
   "metadata": {},
   "outputs": [],
   "source": []
  }
 ],
 "metadata": {
  "kernelspec": {
   "display_name": "Python 3",
   "language": "python",
   "name": "python3"
  },
  "language_info": {
   "codemirror_mode": {
    "name": "ipython",
    "version": 3
   },
   "file_extension": ".py",
   "mimetype": "text/x-python",
   "name": "python",
   "nbconvert_exporter": "python",
   "pygments_lexer": "ipython3",
   "version": "3.7.4"
  }
 },
 "nbformat": 4,
 "nbformat_minor": 2
}
