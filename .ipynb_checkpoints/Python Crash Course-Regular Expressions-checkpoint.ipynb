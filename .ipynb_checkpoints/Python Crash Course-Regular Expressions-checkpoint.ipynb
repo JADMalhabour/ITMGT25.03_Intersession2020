{
 "cells": [
  {
   "cell_type": "markdown",
   "metadata": {},
   "source": [
    "## Regular Expression (Regex)"
   ]
  },
  {
   "cell_type": "markdown",
   "metadata": {},
   "source": [
    "A regular expression (shortened as regex or regexp; also referred to as rational expression) is a sequence of characters that define a search pattern. Usually such patterns are used by string-searching algorithms for \"find\" or \"find and replace\" operations on strings, or for input validation.\n",
    "\n",
    "**Source:** Wikipedia\n",
    "\n",
    "Regular expressions are extremely useful in extracting information from text such as code, log files, spreadsheets, or even documents. And while there is a lot of theory behind formal languages, the following lessons and examples will explore the more practical uses of regular expressions so that you can use them as quickly as possible.\n",
    "\n",
    "**Source:** [RegExOne](https://regexone.com/)"
   ]
  },
  {
   "cell_type": "markdown",
   "metadata": {},
   "source": [
    "The best way to dive into **regex** is to go through examples."
   ]
  },
  {
   "cell_type": "code",
   "execution_count": 4,
   "metadata": {},
   "outputs": [
    {
     "name": "stdout",
     "output_type": "stream",
     "text": [
      "BS Mgt Engineering, John Gokongwei School of Mgt, Loyola Schools, Ateneo de Manila University\n"
     ]
    }
   ],
   "source": [
    "# how would you do text searching and substring operations using regular Python??\n",
    "\n",
    "text = \"BS Management Engineering, John Gokongwei School of Management, Loyola Schools, Ateneo de Manila University\"\n",
    "\n",
    "index=text.find(\"Loyola\")\n",
    "\n",
    "text[index:]\n",
    "\n",
    "# how would you replace text in a string using regular Python??\n",
    "\n",
    "newtext = text.replace(\"Management\",\"Mgt\")\n",
    "print(newtext)\n"
   ]
  },
  {
   "cell_type": "code",
   "execution_count": 5,
   "metadata": {},
   "outputs": [],
   "source": [
    "# demo: import re\n",
    "\n",
    "import re"
   ]
  },
  {
   "cell_type": "code",
   "execution_count": 11,
   "metadata": {},
   "outputs": [
    {
     "name": "stdout",
     "output_type": "stream",
     "text": [
      "['BS']\n",
      "['Schools']\n",
      "['School', 'School']\n",
      "['Management', 'Management']\n",
      "['Engineering']\n"
     ]
    }
   ],
   "source": [
    "# demo: findall\n",
    "\n",
    "text = \"BS Management Engineering, John Gokongwei School of Management, Loyola Schools, Ateneo de Manila University\"\n",
    "\n",
    "print(re.findall(\"BS\",text))\n",
    "print(re.findall(\"Schools\",text))\n",
    "print(re.findall(\"School\",text))\n",
    "print(re.findall(\"Management\",text))\n",
    "print(re.findall(\"Engineering\",text))\n"
   ]
  },
  {
   "cell_type": "markdown",
   "metadata": {},
   "source": [
    "### Search\n",
    "\n",
    "Scan through string looking for the first location where the regular expression pattern produces a match, and return a corresponding match object. Return None if no position in the string matches the pattern; note that this is different from finding a zero-length match at some point in the string."
   ]
  },
  {
   "cell_type": "code",
   "execution_count": 17,
   "metadata": {},
   "outputs": [
    {
     "name": "stdout",
     "output_type": "stream",
     "text": [
      "BS\n",
      "Management\n",
      "BS Management\n",
      "Engineering\n",
      "Error\n"
     ]
    }
   ],
   "source": [
    "text = \"BS Management Engineering, John Gokongwei School of Management, Loyola Schools, Ateneo de Manila University\"\n",
    "\n",
    "try:\n",
    "    print(re.search(r'BS', text).group())\n",
    "    print(re.search(r'Management',text).group())\n",
    "    print(re.search(r'BS Management',text).group())\n",
    "    print(re.search(r'Engineering',text).group())\n",
    "    print(re.search(r'engineering',text).group())\n",
    "    \n",
    "except:\n",
    "    print(\"Error\")\n",
    "\n",
    "\n"
   ]
  },
  {
   "cell_type": "markdown",
   "metadata": {},
   "source": [
    "### Match\n",
    "\n",
    "If zero or more characters at the beginning of string match the regular expression pattern, return a corresponding match object. Return None if the string does not match the pattern; note that this is different from a zero-length match.\n",
    "\n",
    "The `group()` function returns the string matched by the regular expression."
   ]
  },
  {
   "cell_type": "code",
   "execution_count": 19,
   "metadata": {},
   "outputs": [
    {
     "name": "stdout",
     "output_type": "stream",
     "text": [
      "BS\n",
      "BS Management\n",
      "Error\n"
     ]
    }
   ],
   "source": [
    "text = \"BS Management Engineering, John Gokongwei School of Management, Loyola Schools, Ateneo de Manila University\"\n",
    "\n",
    "try:\n",
    "    print(re.match(r'BS', text).group())\n",
    "    print(re.match(r'BS Management',text).group())\n",
    "    print(re.match(r'Management',text).group())\n",
    "    print(re.match(r'Engineering',text).group())\n",
    "    print(re.match(r'engineering',text).group())\n",
    "    \n",
    "except:\n",
    "    print(\"Error\")\n",
    "\n",
    "\n"
   ]
  },
  {
   "cell_type": "markdown",
   "metadata": {},
   "source": [
    "**Wildcard**\n",
    "\n",
    "**.**  - A period. Matches any single character except newline character."
   ]
  },
  {
   "cell_type": "code",
   "execution_count": 27,
   "metadata": {},
   "outputs": [
    {
     "name": "stdout",
     "output_type": "stream",
     "text": [
      "BS Management\n",
      "Management Engineering\n",
      "Management Engineering\n",
      "['Management', 'Management']\n",
      "['School ', 'Schools']\n"
     ]
    }
   ],
   "source": [
    "text = \"BS Management Engineering, John Gokongwei School of Management, Loyola Schools, Ateneo de Manila University\"\n",
    "\n",
    "print(re.search(\"BS.Management\",text).group())\n",
    "print(re.search(\"Management.Engineer...\",text).group())\n",
    "print(re.search(\".anagement.Engineer...\",text).group())\n",
    "print(re.findall(\"Manage....\",text))\n",
    "print(re.findall(\"School.\",text))\n",
    "\n"
   ]
  },
  {
   "cell_type": "markdown",
   "metadata": {},
   "source": [
    "**\\w** - Lowercase w. Matches any single letter, digit or underscore."
   ]
  },
  {
   "cell_type": "code",
   "execution_count": 29,
   "metadata": {},
   "outputs": [
    {
     "name": "stdout",
     "output_type": "stream",
     "text": [
      "Schools\n",
      "['Schools']\n"
     ]
    }
   ],
   "source": [
    "text = \"BS Management Engineering, John Gokongwei School of Management, Loyola Schools, Ateneo de Manila University\"\n",
    "\n",
    "print(re.search(r\"School\\w\",text).group())\n",
    "print(re.findall(r\"School\\w\",text))\n",
    "\n",
    "\n"
   ]
  },
  {
   "cell_type": "code",
   "execution_count": null,
   "metadata": {},
   "outputs": [],
   "source": [
    "\n",
    "\n",
    "\n",
    "\n",
    "\n",
    "\n"
   ]
  },
  {
   "cell_type": "markdown",
   "metadata": {},
   "source": [
    "**\\W** - Uppercase w. Matches any character not part of \\w (lowercase w)."
   ]
  },
  {
   "cell_type": "code",
   "execution_count": 30,
   "metadata": {},
   "outputs": [
    {
     "name": "stdout",
     "output_type": "stream",
     "text": [
      "School \n",
      "['School ']\n"
     ]
    }
   ],
   "source": [
    "text = \"BS Management Engineering, John Gokongwei School of Management, Loyola Schools, Ateneo de Manila University\"\n",
    "\n",
    "print(re.search(r\"School\\W\",text).group())\n",
    "print(re.findall(r\"School\\W\",text))\n",
    "\n",
    "\n"
   ]
  },
  {
   "cell_type": "markdown",
   "metadata": {},
   "source": [
    "**\\s** - Lowercase s. Matches a single whitespace character like: space, newline, tab, return."
   ]
  },
  {
   "cell_type": "code",
   "execution_count": 49,
   "metadata": {},
   "outputs": [
    {
     "name": "stdout",
     "output_type": "stream",
     "text": [
      "[' ', ' ', ' ', ' ', ' ', '\\n', ' ', ' ', ' ', ' ']\n"
     ]
    }
   ],
   "source": [
    "text = \"BS Management Engineering, John Gokongwei School of Management, Loyola Schools, Ateneo de Manila University\"\n",
    "course = \"ITMGT25.03 Information Technology Application Programming, \\nQuantitative Methods and Information Technology\"\n",
    "\n",
    "print(re.findall(r\"\\s\",course))\n",
    "\n",
    "\n"
   ]
  },
  {
   "cell_type": "markdown",
   "metadata": {},
   "source": [
    "**\\S** - Uppercase s. Matches any character not part of \\s (lowercase s)."
   ]
  },
  {
   "cell_type": "code",
   "execution_count": 48,
   "metadata": {},
   "outputs": [
    {
     "name": "stdout",
     "output_type": "stream",
     "text": [
      "['I', 'T', 'M', 'G', 'T', '2', '5', '.', '0', '3', 'I', 'n', 'f', 'o', 'r', 'm', 'a', 't', 'i', 'o', 'n', 'T', 'e', 'c', 'h', 'n', 'o', 'l', 'o', 'g', 'y', 'A', 'p', 'p', 'l', 'i', 'c', 'a', 't', 'i', 'o', 'n', 'P', 'r', 'o', 'g', 'r', 'a', 'm', 'm', 'i', 'n', 'g', ',', 'Q', 'u', 'a', 'n', 't', 'i', 't', 'a', 't', 'i', 'v', 'e', 'M', 'e', 't', 'h', 'o', 'd', 's', 'a', 'n', 'd', 'I', 'n', 'f', 'o', 'r', 'm', 'a', 't', 'i', 'o', 'n', 'T', 'e', 'c', 'h', 'n', 'o', 'l', 'o', 'g', 'y']\n",
      "['IT', 'MG', 'T2', '5.', '03', 'In', 'fo', 'rm', 'at', 'io', 'Te', 'ch', 'no', 'lo', 'gy', 'Ap', 'pl', 'ic', 'at', 'io', 'Pr', 'og', 'ra', 'mm', 'in', 'g,', 'Qu', 'an', 'ti', 'ta', 'ti', 've', 'Me', 'th', 'od', 'an', 'In', 'fo', 'rm', 'at', 'io', 'Te', 'ch', 'no', 'lo', 'gy']\n",
      "['ITM', 'GT2', '5.0', 'Inf', 'orm', 'ati', 'Tec', 'hno', 'log', 'App', 'lic', 'ati', 'Pro', 'gra', 'mmi', 'ng,', 'Qua', 'nti', 'tat', 'ive', 'Met', 'hod', 'and', 'Inf', 'orm', 'ati', 'Tec', 'hno', 'log']\n"
     ]
    }
   ],
   "source": [
    "text = \"BS Management Engineering, John Gokongwei School of Management, Loyola Schools, Ateneo de Manila University\"\n",
    "course = \"ITMGT25.03 Information Technology Application Programming, \\nQuantitative Methods and Information Technology\"\n",
    "\n",
    "print(re.findall(r\"\\S\",course))\n",
    "print(re.findall(r\"\\S\\S\",course))\n",
    "print(re.findall(r\"\\S\\S\\S\",course))\n",
    "\n",
    "\n",
    "\n",
    "\n"
   ]
  },
  {
   "cell_type": "markdown",
   "metadata": {},
   "source": [
    "**\\n** - Lowercase n. Matches newline.\n",
    "\n",
    "**\\r** - Lowercase r. Matches return.\n",
    "\n",
    "**\\d** - Lowercase d. Matches decimal digit 0-9."
   ]
  },
  {
   "cell_type": "code",
   "execution_count": 47,
   "metadata": {},
   "outputs": [
    {
     "name": "stdout",
     "output_type": "stream",
     "text": [
      "['\\n']\n",
      "[]\n",
      "['2', '5', '0', '3']\n",
      "['25', '03']\n"
     ]
    }
   ],
   "source": [
    "\n",
    "text = \"BS Management Engineering, John Gokongwei School of Management, Loyola Schools, Ateneo de Manila University\"\n",
    "course = \"ITMGT25.03 Information Technology Application Programming, \\nQuantitative Methods and Information Technology\"\n",
    "\n",
    "print(re.findall(r\"\\n\",course))\n",
    "print(re.findall(r\"\\r\",course))\n",
    "print(re.findall(r\"\\d\",course))\n",
    "print(re.findall(r\"\\d\\d\",course))\n",
    "\n",
    "\n",
    "\n",
    "\n"
   ]
  },
  {
   "cell_type": "markdown",
   "metadata": {},
   "source": [
    "^ - Caret. Matches a pattern at the start of the string."
   ]
  },
  {
   "cell_type": "code",
   "execution_count": 46,
   "metadata": {},
   "outputs": [
    {
     "name": "stdout",
     "output_type": "stream",
     "text": [
      "ITM\n",
      "Error\n"
     ]
    }
   ],
   "source": [
    "text = \"BS Management Engineering, John Gokongwei School of Management, Loyola Schools, Ateneo de Manila University\"\n",
    "course = \"ITMGT25.03 Information Technology Application Programming, \\nQuantitative Methods and Information Technology\"\n",
    "\n",
    "try:\n",
    "    print(re.search(r\"^ITM\",course).group())\n",
    "    print(re.search(r\"^Programming\",course).group())\n",
    "except:\n",
    "    print(\"Error\")\n",
    "\n",
    "\n"
   ]
  },
  {
   "cell_type": "markdown",
   "metadata": {},
   "source": [
    "$ - Matches a pattern at the end of string."
   ]
  },
  {
   "cell_type": "code",
   "execution_count": 45,
   "metadata": {},
   "outputs": [
    {
     "name": "stdout",
     "output_type": "stream",
     "text": [
      "Technology\n",
      "Error\n"
     ]
    }
   ],
   "source": [
    "\n",
    "text = \"BS Management Engineering, John Gokongwei School of Management, Loyola Schools, Ateneo de Manila University\"\n",
    "course = \"ITMGT25.03 Information Technology Application Programming, \\nQuantitative Methods and Information Technology\"\n",
    "\n",
    "try:\n",
    "    print(re.search(r\"Technology$\",course).group())\n",
    "    print(re.search(r\"Engineering$\",course).group())\n",
    "except:\n",
    "    print(\"Error\")\n",
    "\n",
    "\n",
    "\n",
    "\n"
   ]
  },
  {
   "cell_type": "markdown",
   "metadata": {},
   "source": [
    "**[abc]** - Matches a or b or c.  \n",
    "**[12]** - Matches 1 or 2\n",
    "\n",
    "**[a-zA-Z0-9]** - Matches any letter from (a to z) or (A to Z) or (0 to 9). \n",
    "\n",
    "Characters that are not within a range can be matched by complementing the set. \n",
    "If the first character of the set is ^, all the characters that are not in the set will be matched."
   ]
  },
  {
   "cell_type": "code",
   "execution_count": 59,
   "metadata": {},
   "outputs": [
    {
     "name": "stdout",
     "output_type": "stream",
     "text": [
      "['a', 'c', 'c', 'a', 'a', 'a', 'a', 'a', 'a', 'c']\n",
      "['I', 'T', 'M', 'T', 'I', 'T', 'M', 'I', 'T']\n",
      "['2', '5', '0', '3']\n",
      "['25', '03']\n",
      "['n', 'f', 'o', 'r', 'm', 'a', 't', 'i', 'o', 'n', 'e', 'c', 'h', 'n', 'o', 'l', 'o', 'g', 'y', 'p', 'p', 'l', 'i', 'c', 'a', 't', 'i', 'o', 'n', 'r', 'o', 'g', 'r', 'a', 'm', 'm', 'i', 'n', 'g', 'u', 'a', 'n', 't', 'i', 't', 'a', 't', 'i', 'v', 'e', 'e', 't', 'h', 'o', 'd', 's', 'a', 'n', 'd', 'n', 'f', 'o', 'r', 'm', 'a', 't', 'i', 'o', 'n', 'e', 'c', 'h', 'n', 'o', 'l', 'o', 'g', 'y']\n",
      "['nfo', 'rma', 'tio', 'ech', 'nol', 'ogy', 'ppl', 'ica', 'tio', 'rog', 'ram', 'min', 'uan', 'tit', 'ati', 'eth', 'ods', 'and', 'nfo', 'rma', 'tio', 'ech', 'nol', 'ogy']\n",
      "['25', '03']\n",
      "['25.03']\n"
     ]
    }
   ],
   "source": [
    "text = \"BS Management Engineering, John Gokongwei School of Management, Loyola Schools, Ateneo de Manila University\"\n",
    "course = \"ITMGT25.03 Information Technology Application Programming, \\nQuantitative Methods and Information Technology\"\n",
    "\n",
    "print(re.findall(r\"[abc]\",course))\n",
    "print(re.findall(r\"[ITM]\",course))\n",
    "print(re.findall(r\"[2503]\",course))\n",
    "print(re.findall(r\"[2503][2503]\",course))\n",
    "print(re.findall(r\"[a-z]\",course))\n",
    "print(re.findall(r\"[a-z][a-z][a-z]\",course))\n",
    "print(re.findall(r\"[0-9][0-9]\",course))\n",
    "print(re.findall(r\"[0-9][0-9]\\.[0-9][0-9]\",course))\n",
    "\n"
   ]
  },
  {
   "cell_type": "markdown",
   "metadata": {},
   "source": [
    "**\\A** - Uppercase a. Matches only at the start of the string. Works across multiple lines as well."
   ]
  },
  {
   "cell_type": "code",
   "execution_count": 62,
   "metadata": {},
   "outputs": [
    {
     "name": "stdout",
     "output_type": "stream",
     "text": [
      "[]\n",
      "['I']\n",
      "[]\n"
     ]
    }
   ],
   "source": [
    "text = \"BS Management Engineering, John Gokongwei School of Management, Loyola Schools, Ateneo de Manila University\"\n",
    "course = \"ITMGT25.03 Information Technology Application Programming, \\nQuantitative Methods and Information Technology\"\n",
    "\n",
    "print(re.findall(r\"\\A[abc]\",course))\n",
    "print(re.findall(r\"\\A[ITM]\",course))\n",
    "print(re.findall(r\"\\A[2503]\",course))\n",
    "\n",
    "\n",
    "\n",
    "\n"
   ]
  },
  {
   "cell_type": "markdown",
   "metadata": {},
   "source": [
    "\\b - Lowercase b. Matches only the beginning or end of the word."
   ]
  },
  {
   "cell_type": "code",
   "execution_count": 66,
   "metadata": {},
   "outputs": [
    {
     "name": "stdout",
     "output_type": "stream",
     "text": [
      "['a']\n",
      "['I', 'I', 'T', 'M', 'I', 'T']\n",
      "['I', 'I', 'T', 'P', 'M', 'I', 'T']\n",
      "['IT']\n"
     ]
    }
   ],
   "source": [
    "text = \"BS Management Engineering, John Gokongwei School of Management, Loyola Schools, Ateneo de Manila University\"\n",
    "course = \"ITMGT25.03 Information Technology Application Programming, \\nQuantitative Methods and Information Technology\"\n",
    "\n",
    "print(re.findall(r\"\\b[abc]\",course))\n",
    "print(re.findall(r\"\\b[ITM]\",course))\n",
    "print(re.findall(r\"\\b[ITMP]\",course))\n",
    "print(re.findall(r\"\\b[ITM][ITM]\",course))\n",
    "\n",
    "\n",
    "\n",
    "\n",
    "\n"
   ]
  },
  {
   "cell_type": "markdown",
   "metadata": {},
   "source": [
    "### Repetitions\n",
    "\n",
    "It becomes quite tedious if you are looking to find long patterns in a sequence. Fortunately, the re module handles repetitions using the following special characters:\n",
    "\n",
    "`+` - Checks for one or more characters to its left."
   ]
  },
  {
   "cell_type": "code",
   "execution_count": 68,
   "metadata": {},
   "outputs": [
    {
     "name": "stdout",
     "output_type": "stream",
     "text": [
      "['ITM', 'T', 'I', 'T', 'M', 'I', 'T']\n",
      "['T', 'T', 'Tech', 'c', 'e', 'e', 'h', 'Tech']\n"
     ]
    }
   ],
   "source": [
    "\n",
    "text = \"BS Management Engineering, John Gokongwei School of Management, Loyola Schools, Ateneo de Manila University\"\n",
    "course = \"ITMGT25.03 Information Technology Application Programming, \\nQuantitative Methods and Information Technology\"\n",
    "\n",
    "print(re.findall(r\"[ITM]+\",course))\n",
    "print(re.findall(r\"[Tech]+\",course))\n",
    "\n",
    "\n",
    "\n",
    "\n",
    "\n"
   ]
  },
  {
   "cell_type": "markdown",
   "metadata": {},
   "source": [
    "`*` - Checks for zero or more characters to its left."
   ]
  },
  {
   "cell_type": "code",
   "execution_count": 69,
   "metadata": {},
   "outputs": [
    {
     "name": "stdout",
     "output_type": "stream",
     "text": [
      "['ITM', '', 'T', '', '', '', '', '', '', 'I', '', '', '', '', '', '', '', '', '', '', '', 'T', '', '', '', '', '', '', '', '', '', '', '', '', '', '', '', '', '', '', '', '', '', '', '', '', '', '', '', '', '', '', '', '', '', '', '', '', '', '', '', '', '', '', '', '', '', '', '', '', '', 'M', '', '', '', '', '', '', '', '', '', '', '', 'I', '', '', '', '', '', '', '', '', '', '', '', 'T', '', '', '', '', '', '', '', '', '', '']\n",
      "['', 'T', '', '', 'T', '', '', '', '', '', '', '', '', '', '', '', '', '', '', '', '', '', '', 'Tech', '', '', '', '', '', '', '', '', '', '', '', '', 'c', '', '', '', '', '', '', '', '', '', '', '', '', '', '', '', '', '', '', '', '', '', '', '', '', '', '', '', '', '', '', '', 'e', '', '', 'e', '', 'h', '', '', '', '', '', '', '', '', '', '', '', '', '', '', '', '', '', '', '', '', 'Tech', '', '', '', '', '', '', '']\n"
     ]
    }
   ],
   "source": [
    "\n",
    "\n",
    "text = \"BS Management Engineering, John Gokongwei School of Management, Loyola Schools, Ateneo de Manila University\"\n",
    "course = \"ITMGT25.03 Information Technology Application Programming, \\nQuantitative Methods and Information Technology\"\n",
    "\n",
    "print(re.findall(r\"[ITM]*\",course))\n",
    "print(re.findall(r\"[Tech]*\",course))\n",
    "\n",
    "\n",
    "\n",
    "\n",
    "\n"
   ]
  },
  {
   "cell_type": "markdown",
   "metadata": {},
   "source": [
    "`?` - Checks for exactly zero or one character to its left."
   ]
  },
  {
   "cell_type": "code",
   "execution_count": 70,
   "metadata": {},
   "outputs": [
    {
     "name": "stdout",
     "output_type": "stream",
     "text": [
      "['I', 'T', 'M', '', 'T', '', '', '', '', '', '', 'I', '', '', '', '', '', '', '', '', '', '', '', 'T', '', '', '', '', '', '', '', '', '', '', '', '', '', '', '', '', '', '', '', '', '', '', '', '', '', '', '', '', '', '', '', '', '', '', '', '', '', '', '', '', '', '', '', '', '', '', '', '', '', 'M', '', '', '', '', '', '', '', '', '', '', '', 'I', '', '', '', '', '', '', '', '', '', '', '', 'T', '', '', '', '', '', '', '', '', '', '']\n",
      "['', 'T', '', '', 'T', '', '', '', '', '', '', '', '', '', '', '', '', '', '', '', '', '', '', 'T', 'e', 'c', 'h', '', '', '', '', '', '', '', '', '', '', '', '', 'c', '', '', '', '', '', '', '', '', '', '', '', '', '', '', '', '', '', '', '', '', '', '', '', '', '', '', '', '', '', '', '', 'e', '', '', 'e', '', 'h', '', '', '', '', '', '', '', '', '', '', '', '', '', '', '', '', '', '', '', '', 'T', 'e', 'c', 'h', '', '', '', '', '', '', '']\n"
     ]
    }
   ],
   "source": [
    "\n",
    "text = \"BS Management Engineering, John Gokongwei School of Management, Loyola Schools, Ateneo de Manila University\"\n",
    "course = \"ITMGT25.03 Information Technology Application Programming, \\nQuantitative Methods and Information Technology\"\n",
    "\n",
    "print(re.findall(r\"[ITM]?\",course))\n",
    "print(re.findall(r\"[Tech]?\",course))\n",
    "\n",
    "\n",
    "\n",
    "\n",
    "\n",
    "\n"
   ]
  },
  {
   "cell_type": "code",
   "execution_count": null,
   "metadata": {},
   "outputs": [],
   "source": [
    "\n",
    "\n",
    "\n",
    "\n",
    "\n"
   ]
  },
  {
   "cell_type": "markdown",
   "metadata": {},
   "source": [
    "But what if you want to check for exact number of sequence repetition?\n",
    "\n",
    "For example, checking the validity of a phone number in an application. re module handles this very gracefully as well using the following regular expressions:\n",
    "\n",
    "`{x}` - Repeat exactly x number of times.\n",
    "\n",
    "`{x,}` - Repeat at least x times or more.\n",
    "\n",
    "`{x, y}` - Repeat at least x times but no more than y times."
   ]
  },
  {
   "cell_type": "code",
   "execution_count": 71,
   "metadata": {},
   "outputs": [
    {
     "name": "stdout",
     "output_type": "stream",
     "text": [
      "['0917-9999999', '0918-9999999']\n"
     ]
    }
   ],
   "source": [
    "# Extract possible phone number(s) from text\n",
    "\n",
    "contact_info = \"Joseph Benjamin R. Ilagan jbilagan@ateneo.edu 0917-9999999, 0918-9999999\"\n",
    "\n",
    "print(re.findall(\"[0-9]{4}-[0-9]{7}\", contact_info))\n",
    "\n",
    "\n"
   ]
  },
  {
   "cell_type": "code",
   "execution_count": 76,
   "metadata": {},
   "outputs": [
    {
     "name": "stdout",
     "output_type": "stream",
     "text": [
      "['jbilagan@ateneo.edu']\n"
     ]
    }
   ],
   "source": [
    "# Extract Email\n",
    "\n",
    "# Extract possible phone number(s) from text\n",
    "\n",
    "contact_info = \"Joseph Benjamin R. Ilagan jbilagan@ateneo.edu 0917-9999999, 0918-9999999\"\n",
    "\n",
    "print(re.findall(\"[a-zA-Z0-9]+@[a-zA-Z0-9]+\\.[a-z]+\", contact_info))"
   ]
  },
  {
   "cell_type": "markdown",
   "metadata": {},
   "source": [
    "#### Groups and Groupings"
   ]
  },
  {
   "cell_type": "markdown",
   "metadata": {},
   "source": [
    "Suppose that, when you're validating email addresses and want to check the user name and host separately.\n",
    "\n",
    "This is when the group feature of regular expression comes in handy. It allows you to pick up parts of the matching text.\n",
    "\n",
    "Parts of a regular expression pattern bounded by parenthesis() are called **groups**. The parenthesis does not change what the expression matches, but rather forms groups within the matched sequence. You have been using the `group()` function all along in this tutorial's examples. The plain `match.group()` without any argument is still the whole matched text as usual."
   ]
  },
  {
   "cell_type": "markdown",
   "metadata": {},
   "source": [
    "The `+` and `*` qualifiers are said to be greedy."
   ]
  },
  {
   "cell_type": "code",
   "execution_count": 82,
   "metadata": {},
   "outputs": [
    {
     "name": "stdout",
     "output_type": "stream",
     "text": [
      "jbilagan@ateneo.edu\n",
      "jbilagan\n",
      "ateneo\n",
      "edu\n"
     ]
    }
   ],
   "source": [
    "contact_info = \"Joseph Benjamin R. Ilagan jbilagan@ateneo.edu 0917-9999999, 0918-9999999\"\n",
    "\n",
    "print(re.search(\"([a-zA-Z0-9]+)@[a-zA-Z0-9]+\\.[a-z]+\", contact_info).group())\n",
    "print(re.search(\"([a-zA-Z0-9]+)@([a-zA-Z0-9]+)\\.([a-z]+)\", contact_info).group(1))\n",
    "print(re.search(\"([a-zA-Z0-9]+)@([a-zA-Z0-9]+)\\.([a-z]+)\", contact_info).group(2))\n",
    "print(re.search(\"([a-zA-Z0-9]+)@([a-zA-Z0-9]+)\\.([a-z]+)\", contact_info).group(3))\n"
   ]
  },
  {
   "cell_type": "markdown",
   "metadata": {},
   "source": [
    "#### Greedy vs. Non-Greedy Matching\n",
    "\n",
    "When a special character matches as much of the search sequence (string) as possible, it is said to be a \"Greedy Match\". It is the normal behavior of a regular expression but sometimes this behavior is not desired:"
   ]
  },
  {
   "cell_type": "markdown",
   "metadata": {},
   "source": [
    "#### Replace text\n"
   ]
  },
  {
   "cell_type": "code",
   "execution_count": 86,
   "metadata": {},
   "outputs": [
    {
     "name": "stdout",
     "output_type": "stream",
     "text": [
      "Joseph Benjamin R. Ilagan jbilagan@ateneo.edu (0917) 9999999, (0918) 9999999\n",
      "Joseph Benjamin R. Ilagan jbilagan@ateneo.edu +630917 9999999, +630918 9999999\n",
      "Joseph Benjamin R. Ilagan jbilagan@ateneo.edu +63917 9999999, +63918 9999999\n"
     ]
    }
   ],
   "source": [
    "\n",
    "# Extract possible phone number(s) from text\n",
    "contact_info = \"Joseph Benjamin R. Ilagan jbilagan@ateneo.edu 0917-9999999, 0918-9999999\"\n",
    "\n",
    "\n",
    "print(re.sub(r\"(09[0-9][0-9])-\",r\"(\\1) \",contact_info))\n",
    "print(re.sub(r\"(09[0-9][0-9])-\",r\"+63\\1 \",contact_info))\n",
    "print(re.sub(r\"\\+630\",r\"+63\", re.sub(r\"(09[0-9][0-9])-\",r\"+63\\1 \",contact_info)))\n"
   ]
  },
  {
   "cell_type": "markdown",
   "metadata": {},
   "source": [
    "### IMPORTANT\n",
    "\n",
    "Please go through the tutorials and sample puzzles [here](https://regexcrossword.com/). We won't have time for a full-blown lecture on regex, but the topic is too important for you not to cover through self-study because future assignments and tests will depend heavily on it."
   ]
  }
 ],
 "metadata": {
  "kernelspec": {
   "display_name": "Python 3",
   "language": "python",
   "name": "python3"
  },
  "language_info": {
   "codemirror_mode": {
    "name": "ipython",
    "version": 3
   },
   "file_extension": ".py",
   "mimetype": "text/x-python",
   "name": "python",
   "nbconvert_exporter": "python",
   "pygments_lexer": "ipython3",
   "version": "3.7.4"
  }
 },
 "nbformat": 4,
 "nbformat_minor": 2
}
