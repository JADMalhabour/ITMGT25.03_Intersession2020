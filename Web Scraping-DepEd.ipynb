{
 "cells": [
  {
   "cell_type": "code",
   "execution_count": 3,
   "metadata": {},
   "outputs": [],
   "source": [
    "import bs4"
   ]
  },
  {
   "cell_type": "code",
   "execution_count": 38,
   "metadata": {},
   "outputs": [],
   "source": [
    "import urllib.request\n",
    "\n",
    "source = urllib.request.urlopen('https://www.deped.gov.ph/k-to-12/senior-high-school/list-of-senior-high-schools/').read()"
   ]
  },
  {
   "cell_type": "code",
   "execution_count": 39,
   "metadata": {},
   "outputs": [],
   "source": [
    "soup = bs4.BeautifulSoup(source,'lxml')"
   ]
  },
  {
   "cell_type": "code",
   "execution_count": 48,
   "metadata": {},
   "outputs": [
    {
     "data": {
      "text/plain": [
       "['TAXONOMY',\n",
       " 'MUNICIPALITY',\n",
       " 'SCHOOL ID',\n",
       " 'SCHOOL NAME',\n",
       " 'PROGRAM OFFERINGS',\n",
       " 'TAXONOMY',\n",
       " 'MUNICIPALITY',\n",
       " 'SCHOOL ID',\n",
       " 'SCHOOL NAME',\n",
       " 'PROGRAM OFFERINGS']"
      ]
     },
     "execution_count": 48,
     "metadata": {},
     "output_type": "execute_result"
    }
   ],
   "source": [
    "header = soup.find_all('th')[0:10]\n",
    "[h.text for h in header]"
   ]
  },
  {
   "cell_type": "code",
   "execution_count": 49,
   "metadata": {},
   "outputs": [],
   "source": [
    "columns = ['TAXONOMY',\n",
    "  'MUNICIPALITY',\n",
    "  'SCHOOL ID',\n",
    "  'SCHOOL NAME',\n",
    "  'PROGRAM OFFERINGS']"
   ]
  },
  {
   "cell_type": "code",
   "execution_count": 62,
   "metadata": {},
   "outputs": [],
   "source": [
    "import csv\n",
    "\n",
    "details = soup.find_all('td')\n",
    "details = details[13:]\n",
    "#[type(r) for r in rows]\n",
    "lines = []\n",
    "\n",
    "for i,d in enumerate(details):\n",
    "    school_dict.setdefault(columns[i%5],d.text)\n",
    "    if i%5==4:\n",
    "        lines.append(school_dict)\n",
    "        school_dict = dict()\n",
    "        \n",
    "# print(lines)\n",
    "\n",
    "with open(\"senior_high_schools.csv\",\"w\") as file:\n",
    "    writer = csv.DictWriter(file,fieldnames=columns)\n",
    "    writer.writeheader()\n",
    "    for l in lines:\n",
    "        writer.writerow(l)"
   ]
  },
  {
   "cell_type": "code",
   "execution_count": 56,
   "metadata": {},
   "outputs": [
    {
     "data": {
      "text/plain": [
       "[{'TAXONOMY': 'ARMM|Basilan',\n",
       "  'MUNICIPALITY': 'City of Lamitan',\n",
       "  'SCHOOL ID': '406057',\n",
       "  'SCHOOL NAME': 'Claret School of Lamitan',\n",
       "  'PROGRAM OFFERINGS': 'STEM|ABM|GAS|TVL'}]"
      ]
     },
     "execution_count": 56,
     "metadata": {},
     "output_type": "execute_result"
    }
   ],
   "source": [
    "lines"
   ]
  },
  {
   "cell_type": "code",
   "execution_count": null,
   "metadata": {},
   "outputs": [],
   "source": []
  }
 ],
 "metadata": {
  "kernelspec": {
   "display_name": "Python 3",
   "language": "python",
   "name": "python3"
  },
  "language_info": {
   "codemirror_mode": {
    "name": "ipython",
    "version": 3
   },
   "file_extension": ".py",
   "mimetype": "text/x-python",
   "name": "python",
   "nbconvert_exporter": "python",
   "pygments_lexer": "ipython3",
   "version": "3.7.4"
  }
 },
 "nbformat": 4,
 "nbformat_minor": 2
}
